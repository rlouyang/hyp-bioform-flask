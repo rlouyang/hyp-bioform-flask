{
 "cells": [
  {
   "cell_type": "code",
   "execution_count": 1,
   "metadata": {
    "collapsed": true
   },
   "outputs": [],
   "source": [
    "from io import StringIO\n",
    "import numpy as np\n",
    "import pandas as pd\n",
    "import os\n",
    "import re\n",
    "import time\n",
    "from requests import session"
   ]
  },
  {
   "cell_type": "code",
   "execution_count": 47,
   "metadata": {
    "collapsed": false
   },
   "outputs": [],
   "source": [
    "seniors = pd.read_csv('Senior Bioform-report.csv', dtype=str, encoding='utf-8')"
   ]
  },
  {
   "cell_type": "code",
   "execution_count": 53,
   "metadata": {
    "collapsed": false
   },
   "outputs": [
    {
     "data": {
      "text/plain": [
       "0           NaN\n",
       "1           NaN\n",
       "2           NaN\n",
       "3           NaN\n",
       "4           NaN\n",
       "5           NaN\n",
       "6           NaN\n",
       "7           NaN\n",
       "8           NaN\n",
       "9           NaN\n",
       "10          NaN\n",
       "11          NaN\n",
       "12          NaN\n",
       "13          NaN\n",
       "14          NaN\n",
       "15          NaN\n",
       "16          NaN\n",
       "17          NaN\n",
       "18          NaN\n",
       "19          NaN\n",
       "20          NaN\n",
       "21          NaN\n",
       "22          NaN\n",
       "23          NaN\n",
       "24          NaN\n",
       "25          NaN\n",
       "26          NaN\n",
       "27    Economics\n",
       "28          NaN\n",
       "29          NaN\n",
       "Name: Joint Concentration in {{answer_44252884}} and, dtype: object"
      ]
     },
     "execution_count": 53,
     "metadata": {},
     "output_type": "execute_result"
    }
   ],
   "source": [
    "seniors[u'Joint Concentration in {{answer_44252884}} and']"
   ]
  },
  {
   "cell_type": "code",
   "execution_count": 50,
   "metadata": {
    "collapsed": false
   },
   "outputs": [
    {
     "data": {
      "text/plain": [
       "Index([u'#', u'First Name', u'Middle Name', u'Last Name', u'Suffix',\n",
       "       u'Date of Birth', u'Email', u'House', u'Concentration Type',\n",
       "       u'Concentration', u'Joint Concentration in',\n",
       "       u'Joint Concentration in {{answer_44252884}} and', u'Concentration.1',\n",
       "       u'Secondary Field', u'Location', u'Town/City', u'State/Territory',\n",
       "       u'Country', u'Secondary School Name', u'Detur Prize',\n",
       "       u'Junior Phi Beta Kappa', u'Phi Beta Kappa', u'John Harvard Scholar',\n",
       "       u'Harvard College Scholar', u'Varsity Sport',\n",
       "       u'Officer/Leadership Position', u'Are you in another varsity sport?',\n",
       "       u'Varsity Sport.1', u'Officer/Leadership Position.1', u'House Activity',\n",
       "       u'Officer/Leadership Position.2', u'Are you in another house activity?',\n",
       "       u'House Activity.1', u'Officer/Leadership Position.3',\n",
       "       u'Are you in another house activity?.1', u'House Activity.2',\n",
       "       u'Officer/Leadership Position.4',\n",
       "       u'Are you in another house activity?.2', u'House Activity.3',\n",
       "       u'Officer/Leadership Position.5', u'Activity',\n",
       "       u'Officer/Leadership Position.6',\n",
       "       u'Are you in any other organizations?', u'Activity.1',\n",
       "       u'Officer/Leadership Position.7',\n",
       "       u'Are you in any other organizations?.1', u'Activity.2',\n",
       "       u'Officer/Leadership Position.8',\n",
       "       u'Are you in any other organizations?.2', u'Activity.3',\n",
       "       u'Officer/Leadership Position.9',\n",
       "       u'Are you in any other organizations?.3', u'Activity.4',\n",
       "       u'Officer/Leadership Position.10',\n",
       "       u'Are you in any other organizations?.4', u'Activity.5',\n",
       "       u'Officer/Leadership Position.11',\n",
       "       u'Are you in any other organizations?.5', u'Activity.6',\n",
       "       u'Officer/Leadership Position.12',\n",
       "       u'Are you in any other organizations?.6', u'Activity.7',\n",
       "       u'Officer/Leadership Position.13',\n",
       "       u'Are you in any other organizations?.7', u'Activity.8',\n",
       "       u'Officer/Leadership Position.14',\n",
       "       u'Are you in any other organizations?.8', u'Activity.9',\n",
       "       u'Officer/Leadership Position.15', u'Club Sport',\n",
       "       u'Officer/Leadership Position.16', u'Are you in another club sport?',\n",
       "       u'Club Sport.1', u'Officer/Leadership Position.17',\n",
       "       u'Are you in another club sport?.1', u'Club Sport.2',\n",
       "       u'Officer/Leadership Position.18', u'Are you in another club sport?.2',\n",
       "       u'Club Sport.3', u'Officer/Leadership Position.19',\n",
       "       u'Professor's First Name', u'Professor's Last Name',\n",
       "       u'Professor's Email', u'Professor's Department', u'Start Date (UTC)',\n",
       "       u'Submit Date (UTC)', u'Network ID'],\n",
       "      dtype='object')"
      ]
     },
     "execution_count": 50,
     "metadata": {},
     "output_type": "execute_result"
    }
   ],
   "source": [
    "seniors.columns"
   ]
  },
  {
   "cell_type": "code",
   "execution_count": 51,
   "metadata": {
    "collapsed": false
   },
   "outputs": [
    {
     "data": {
      "text/plain": [
       "[u'#',\n",
       " u'First Name',\n",
       " u'Middle Name',\n",
       " u'Last Name',\n",
       " u'Suffix',\n",
       " u'Date of Birth',\n",
       " u'Email',\n",
       " u'House',\n",
       " u'Concentration Type',\n",
       " u'Concentration',\n",
       " u'Joint Concentration in',\n",
       " 'Joint Concentration.2',\n",
       " u'Concentration.1',\n",
       " u'Secondary Field',\n",
       " u'Location',\n",
       " u'Town/City',\n",
       " u'State/Territory',\n",
       " u'Country',\n",
       " u'Secondary School Name',\n",
       " u'Detur Prize',\n",
       " u'Junior Phi Beta Kappa',\n",
       " u'Phi Beta Kappa',\n",
       " u'John Harvard Scholar',\n",
       " u'Harvard College Scholar',\n",
       " u'Varsity Sport',\n",
       " u'Officer/Leadership Position',\n",
       " u'Are you in another varsity sport?',\n",
       " u'Varsity Sport.1',\n",
       " u'Officer/Leadership Position.1',\n",
       " u'House Activity',\n",
       " u'Officer/Leadership Position.2',\n",
       " u'Are you in another house activity?',\n",
       " u'House Activity.1',\n",
       " u'Officer/Leadership Position.3',\n",
       " u'Are you in another house activity?.1',\n",
       " u'House Activity.2',\n",
       " u'Officer/Leadership Position.4',\n",
       " u'Are you in another house activity?.2',\n",
       " u'House Activity.3',\n",
       " u'Officer/Leadership Position.5',\n",
       " u'Activity',\n",
       " u'Officer/Leadership Position.6',\n",
       " u'Are you in any other organizations?',\n",
       " u'Activity.1',\n",
       " u'Officer/Leadership Position.7',\n",
       " u'Are you in any other organizations?.1',\n",
       " u'Activity.2',\n",
       " u'Officer/Leadership Position.8',\n",
       " u'Are you in any other organizations?.2',\n",
       " u'Activity.3',\n",
       " u'Officer/Leadership Position.9',\n",
       " u'Are you in any other organizations?.3',\n",
       " u'Activity.4',\n",
       " u'Officer/Leadership Position.10',\n",
       " u'Are you in any other organizations?.4',\n",
       " u'Activity.5',\n",
       " u'Officer/Leadership Position.11',\n",
       " u'Are you in any other organizations?.5',\n",
       " u'Activity.6',\n",
       " u'Officer/Leadership Position.12',\n",
       " u'Are you in any other organizations?.6',\n",
       " u'Activity.7',\n",
       " u'Officer/Leadership Position.13',\n",
       " u'Are you in any other organizations?.7',\n",
       " u'Activity.8',\n",
       " u'Officer/Leadership Position.14',\n",
       " u'Are you in any other organizations?.8',\n",
       " u'Activity.9',\n",
       " u'Officer/Leadership Position.15',\n",
       " u'Club Sport',\n",
       " u'Officer/Leadership Position.16',\n",
       " u'Are you in another club sport?',\n",
       " u'Club Sport.1',\n",
       " u'Officer/Leadership Position.17',\n",
       " u'Are you in another club sport?.1',\n",
       " u'Club Sport.2',\n",
       " u'Officer/Leadership Position.18',\n",
       " u'Are you in another club sport?.2',\n",
       " u'Club Sport.3',\n",
       " u'Officer/Leadership Position.19',\n",
       " u\"Professor's First Name\",\n",
       " u\"Professor's Last Name\",\n",
       " u\"Professor's Email\",\n",
       " u\"Professor's Department\",\n",
       " u'Start Date (UTC)',\n",
       " u'Submit Date (UTC)',\n",
       " u'Network ID']"
      ]
     },
     "execution_count": 51,
     "metadata": {},
     "output_type": "execute_result"
    }
   ],
   "source": [
    "# seniors.rename(columns={'Joint Concentration in {{answer_44252884}} and': 'Joint Concentration.2'}, inplace=True)\n",
    "['Joint Concentration.2' if column.endswith('Joint Concentration in {{answer_44252884}} and') else column for column in seniors.columns]"
   ]
  },
  {
   "cell_type": "code",
   "execution_count": null,
   "metadata": {
    "collapsed": true
   },
   "outputs": [],
   "source": []
  },
  {
   "cell_type": "code",
   "execution_count": 54,
   "metadata": {
    "collapsed": true
   },
   "outputs": [],
   "source": [
    "from datetime import datetime"
   ]
  },
  {
   "cell_type": "code",
   "execution_count": 56,
   "metadata": {
    "collapsed": false
   },
   "outputs": [
    {
     "ename": "AttributeError",
     "evalue": "attribute 'year' of 'datetime.date' objects is not writable",
     "output_type": "error",
     "traceback": [
      "\u001b[0;31m---------------------------------------------------------------------------\u001b[0m",
      "\u001b[0;31mAttributeError\u001b[0m                            Traceback (most recent call last)",
      "\u001b[0;32m<ipython-input-56-36b2853321ef>\u001b[0m in \u001b[0;36m<module>\u001b[0;34m()\u001b[0m\n\u001b[1;32m      1\u001b[0m \u001b[0mbirthdate\u001b[0m \u001b[0;34m=\u001b[0m \u001b[0mdatetime\u001b[0m\u001b[0;34m.\u001b[0m\u001b[0mstrptime\u001b[0m\u001b[0;34m(\u001b[0m\u001b[0;34m'1500-12-12'\u001b[0m\u001b[0;34m,\u001b[0m \u001b[0;34m'%Y-%m-%d'\u001b[0m\u001b[0;34m)\u001b[0m\u001b[0;34m\u001b[0m\u001b[0m\n\u001b[1;32m      2\u001b[0m \u001b[0;32mif\u001b[0m \u001b[0mbirthdate\u001b[0m\u001b[0;34m.\u001b[0m\u001b[0myear\u001b[0m \u001b[0;34m<\u001b[0m \u001b[0;36m1900\u001b[0m\u001b[0;34m:\u001b[0m\u001b[0;34m\u001b[0m\u001b[0m\n\u001b[0;32m----> 3\u001b[0;31m     \u001b[0mbirthdate\u001b[0m\u001b[0;34m.\u001b[0m\u001b[0myear\u001b[0m \u001b[0;34m=\u001b[0m \u001b[0;36m1900\u001b[0m\u001b[0;34m\u001b[0m\u001b[0m\n\u001b[0m\u001b[1;32m      4\u001b[0m \u001b[0mbirthdate\u001b[0m \u001b[0;34m=\u001b[0m \u001b[0mbirthdate\u001b[0m\u001b[0;34m.\u001b[0m\u001b[0mstrftime\u001b[0m\u001b[0;34m(\u001b[0m\u001b[0;34m'%B %-d, %Y'\u001b[0m\u001b[0;34m)\u001b[0m\u001b[0;34m\u001b[0m\u001b[0m\n",
      "\u001b[0;31mAttributeError\u001b[0m: attribute 'year' of 'datetime.date' objects is not writable"
     ]
    }
   ],
   "source": [
    "birthdate = datetime.strptime('1500-12-12', '%Y-%m-%d')\n",
    "if birthdate.year < 1900:\n",
    "    birthdate.year = 1900\n",
    "birthdate = birthdate.strftime('%B %-d, %Y')"
   ]
  },
  {
   "cell_type": "code",
   "execution_count": null,
   "metadata": {
    "collapsed": true
   },
   "outputs": [],
   "source": []
  }
 ],
 "metadata": {
  "kernelspec": {
   "display_name": "Python 2",
   "language": "python",
   "name": "python2"
  },
  "language_info": {
   "codemirror_mode": {
    "name": "ipython",
    "version": 2
   },
   "file_extension": ".py",
   "mimetype": "text/x-python",
   "name": "python",
   "nbconvert_exporter": "python",
   "pygments_lexer": "ipython2",
   "version": "2.7.13"
  }
 },
 "nbformat": 4,
 "nbformat_minor": 2
}
